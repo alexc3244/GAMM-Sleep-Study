{
 "cells": [
  {
   "cell_type": "code",
   "execution_count": null,
   "id": "f68f5418",
   "metadata": {},
   "outputs": [],
   "source": [
    "## perform some quick eda of other datasets to use"
   ]
  },
  {
   "cell_type": "code",
   "execution_count": null,
   "id": "4ca2e1a1",
   "metadata": {},
   "outputs": [],
   "source": [
    "import pandas as pd\n",
    "import numpy as np\n",
    "import matplotlib.pyplot as plt\n",
    "import seaborn as sns\n",
    "import os"
   ]
  }
 ],
 "metadata": {
  "language_info": {
   "name": "python"
  }
 },
 "nbformat": 4,
 "nbformat_minor": 5
}
